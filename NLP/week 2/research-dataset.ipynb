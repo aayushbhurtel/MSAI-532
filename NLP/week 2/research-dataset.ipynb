{
 "cells": [
  {
   "cell_type": "markdown",
   "id": "618d7cc2",
   "metadata": {
    "papermill": {
     "duration": 0.002144,
     "end_time": "2025-03-14T04:49:32.081743",
     "exception": false,
     "start_time": "2025-03-14T04:49:32.079599",
     "status": "completed"
    },
    "tags": []
   },
   "source": [
    "<h1> Clubhouse Dataset </h1>\n",
    "Clubhouse is one of the social media platform where social interaction is done through live, audio-only conversation. Clubhouse allows users to talk and listen in real time. users can join a conversation in a room full of people or start a virtual room to talk to each other. No recordings options was provided so everything talked about was on real-time.\n",
    "\n",
    " A user *[johntukey](https://www.kaggle.com/datasets/johntukey/clubhouse-dataset)* has made this dataset publicly available through kaggle.<br>\n",
    " Firstly,let's import the dataset and necessary libraries."
   ]
  },
  {
   "cell_type": "code",
   "execution_count": 1,
   "id": "272c43c4",
   "metadata": {
    "execution": {
     "iopub.execute_input": "2025-03-14T04:49:32.085621Z",
     "iopub.status.busy": "2025-03-14T04:49:32.085387Z",
     "iopub.status.idle": "2025-03-14T04:49:32.732444Z",
     "shell.execute_reply": "2025-03-14T04:49:32.731724Z"
    },
    "papermill": {
     "duration": 0.650749,
     "end_time": "2025-03-14T04:49:32.734117",
     "exception": false,
     "start_time": "2025-03-14T04:49:32.083368",
     "status": "completed"
    },
    "tags": []
   },
   "outputs": [],
   "source": [
    "import sqlite3\n",
    "import pandas as pd"
   ]
  },
  {
   "cell_type": "markdown",
   "id": "53eb56e7",
   "metadata": {
    "papermill": {
     "duration": 0.001138,
     "end_time": "2025-03-14T04:49:32.736910",
     "exception": false,
     "start_time": "2025-03-14T04:49:32.735772",
     "status": "completed"
    },
    "tags": []
   },
   "source": [
    "Since the data in the dataset are in .db format which is database binary format, we need a sql reader to read those data. Here we have imported sqlite3 and pandas to read those data."
   ]
  },
  {
   "cell_type": "code",
   "execution_count": 2,
   "id": "eb617ead",
   "metadata": {
    "execution": {
     "iopub.execute_input": "2025-03-14T04:49:32.740310Z",
     "iopub.status.busy": "2025-03-14T04:49:32.740002Z",
     "iopub.status.idle": "2025-03-14T04:49:38.169925Z",
     "shell.execute_reply": "2025-03-14T04:49:38.169175Z"
    },
    "papermill": {
     "duration": 5.433151,
     "end_time": "2025-03-14T04:49:38.171356",
     "exception": false,
     "start_time": "2025-03-14T04:49:32.738205",
     "status": "completed"
    },
    "tags": []
   },
   "outputs": [],
   "source": [
    "db = sqlite3.connect('/kaggle/input/clubhouse-dataset/Clubhouse_Dataset_v1.db')\n",
    "df = pd.read_sql_query('SELECT * FROM user', db)"
   ]
  },
  {
   "cell_type": "markdown",
   "id": "dc23b9be",
   "metadata": {
    "papermill": {
     "duration": 0.001435,
     "end_time": "2025-03-14T04:49:38.176010",
     "exception": false,
     "start_time": "2025-03-14T04:49:38.174575",
     "status": "completed"
    },
    "tags": []
   },
   "source": [
    "Here I have used sqlite3.connect() function to establish a connection to the given database. Next, I have used pandas read_sql_query() function to read the data in the database. we need to pass two arguments to use this function, so I passed a SQL query to retrieve all user's info and the database connection that I created above. Now lets look at some data."
   ]
  },
  {
   "cell_type": "code",
   "execution_count": 3,
   "id": "54077a4a",
   "metadata": {
    "execution": {
     "iopub.execute_input": "2025-03-14T04:49:38.179797Z",
     "iopub.status.busy": "2025-03-14T04:49:38.179592Z",
     "iopub.status.idle": "2025-03-14T04:49:38.190520Z",
     "shell.execute_reply": "2025-03-14T04:49:38.189729Z"
    },
    "papermill": {
     "duration": 0.014642,
     "end_time": "2025-03-14T04:49:38.192049",
     "exception": false,
     "start_time": "2025-03-14T04:49:38.177407",
     "status": "completed"
    },
    "tags": []
   },
   "outputs": [
    {
     "name": "stdout",
     "output_type": "stream",
     "text": [
      "   user_id              name  \\\n",
      "0        4        Rohan Seth   \n",
      "1        5      Paul Davison   \n",
      "2        8  Johnny Appleseed   \n",
      "3       10              DK 🖍   \n",
      "4       12  Jonathan Gheller   \n",
      "\n",
      "                                           photo_url  username    twitter  \\\n",
      "0  https://clubhouseprod.s3.amazonaws.com:443/4_b...     rohan  rohanseth   \n",
      "1  https://clubhouseprod.s3.amazonaws.com:443/5_e...      paul   pdavison   \n",
      "2                                               None    apple1       null   \n",
      "3  https://clubhouseprod.s3.amazonaws.com:443/10_...        dk       dksf   \n",
      "4  https://clubhouseprod.s3.amazonaws.com:443/12_...  jonathan   jgheller   \n",
      "\n",
      "      instagram  num_followers  num_following  \\\n",
      "0          null        4187268            599   \n",
      "1          null        3718334           1861   \n",
      "2  srt_tester_9             20             81   \n",
      "3          null          49538            173   \n",
      "4          null          21250             81   \n",
      "\n",
      "                       time_created invited_by_user_profile  \n",
      "0  2020-03-17T07:51:28.085566+00:00                    null  \n",
      "1  2020-03-17T14:36:19.468976+00:00                    null  \n",
      "2  2020-03-19T19:47:00.323603+00:00                    null  \n",
      "3  2020-03-19T23:38:52.574777+00:00                    null  \n",
      "4  2020-03-20T02:30:22.188084+00:00                    null  \n"
     ]
    }
   ],
   "source": [
    "print(df.head(5))"
   ]
  }
 ],
 "metadata": {
  "kaggle": {
   "accelerator": "none",
   "dataSources": [
    {
     "datasetId": 1248936,
     "sourceId": 2358677,
     "sourceType": "datasetVersion"
    }
   ],
   "dockerImageVersionId": 30918,
   "isGpuEnabled": false,
   "isInternetEnabled": false,
   "language": "python",
   "sourceType": "notebook"
  },
  "kernelspec": {
   "display_name": "Python 3",
   "language": "python",
   "name": "python3"
  },
  "language_info": {
   "codemirror_mode": {
    "name": "ipython",
    "version": 3
   },
   "file_extension": ".py",
   "mimetype": "text/x-python",
   "name": "python",
   "nbconvert_exporter": "python",
   "pygments_lexer": "ipython3",
   "version": "3.10.12"
  },
  "papermill": {
   "default_parameters": {},
   "duration": 8.734176,
   "end_time": "2025-03-14T04:49:38.912100",
   "environment_variables": {},
   "exception": null,
   "input_path": "__notebook__.ipynb",
   "output_path": "__notebook__.ipynb",
   "parameters": {},
   "start_time": "2025-03-14T04:49:30.177924",
   "version": "2.6.0"
  }
 },
 "nbformat": 4,
 "nbformat_minor": 5
}
