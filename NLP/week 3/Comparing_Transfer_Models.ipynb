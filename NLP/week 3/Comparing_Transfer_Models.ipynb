{
  "nbformat": 4,
  "nbformat_minor": 0,
  "metadata": {
    "colab": {
      "provenance": [],
      "authorship_tag": "ABX9TyOb+C+Vcsy3frvShTsoETAB"
    },
    "kernelspec": {
      "name": "python3",
      "display_name": "Python 3"
    },
    "language_info": {
      "name": "python"
    }
  },
  "cells": [
    {
      "cell_type": "markdown",
      "source": [
        "I have loaded a sample text .\n"
      ],
      "metadata": {
        "id": "Sev5cWwWdZKo"
      }
    },
    {
      "cell_type": "code",
      "source": [
        "sample_text = \"translate English to French: ML is transforming industries by enabling systems to learn from data and make intelligent decisions.\""
      ],
      "metadata": {
        "id": "RRNdihtOvW7C"
      },
      "execution_count": 50,
      "outputs": []
    },
    {
      "cell_type": "markdown",
      "source": [
        "import necessary libraries."
      ],
      "metadata": {
        "id": "G7HJbAqRNf6T"
      }
    },
    {
      "cell_type": "code",
      "source": [
        "from transformers import pipeline, AutoTokenizer, AutoModelForSeq2SeqLM\n",
        "\n",
        "tokenizer = AutoTokenizer.from_pretrained(\"google-t5/t5-base\")\n",
        "inputs = tokenizer(sample_text, return_tensors=\"pt\").input_ids\n",
        "model = AutoModelForSeq2SeqLM.from_pretrained(\"google-t5/t5-base\")\n",
        "outputs = model.generate(inputs, max_new_tokens=40, do_sample=True, top_k=30, top_p=0.95)\n",
        "output1 = tokenizer.decode(outputs[0], skip_special_tokens=True)"
      ],
      "metadata": {
        "id": "mgczk34ZCVKP"
      },
      "execution_count": 53,
      "outputs": []
    },
    {
      "cell_type": "code",
      "source": [
        "from transformers import MBartForConditionalGeneration, MBart50TokenizerFast\n",
        "\n",
        "model = MBartForConditionalGeneration.from_pretrained(\"facebook/mbart-large-50-many-to-many-mmt\")\n",
        "tokenizer = MBart50TokenizerFast.from_pretrained(\"facebook/mbart-large-50-many-to-many-mmt\")\n",
        "\n",
        "# translate English to French\n",
        "tokenizer.src_lang = \"en_XX\"\n",
        "encoded_en = tokenizer(sample_text, return_tensors=\"pt\")\n",
        "generated_tokens = model.generate(\n",
        "    **encoded_en,\n",
        "    forced_bos_token_id=tokenizer.lang_code_to_id[\"fr_XX\"]\n",
        ")\n",
        "output2 = tokenizer.batch_decode(generated_tokens, skip_special_tokens=True)\n"
      ],
      "metadata": {
        "id": "JQEx0TUORiU5"
      },
      "execution_count": 54,
      "outputs": []
    },
    {
      "cell_type": "code",
      "source": [
        "import difflib\n",
        "\n",
        "diff = difflib.ndiff(output1.splitlines(), output2[0].splitlines())\n",
        "diff_output = '\\n'.join(diff)\n",
        "\n",
        "with open('translation_diff.txt', 'w') as f:\n",
        "  f.write(diff_output)"
      ],
      "metadata": {
        "colab": {
          "base_uri": "https://localhost:8080/"
        },
        "id": "r7_2bIeQpnez",
        "outputId": "7c65b8f6-2f8a-4d98-e13a-99bcebc5441e"
      },
      "execution_count": 94,
      "outputs": [
        {
          "output_type": "stream",
          "name": "stdout",
          "text": [
            "Difference between translations written to translation_diff.txt\n"
          ]
        }
      ]
    }
  ]
}