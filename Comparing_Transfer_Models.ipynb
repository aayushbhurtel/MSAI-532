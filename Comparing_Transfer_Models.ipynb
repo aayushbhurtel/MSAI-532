{
  "nbformat": 4,
  "nbformat_minor": 0,
  "metadata": {
    "colab": {
      "provenance": [],
      "authorship_tag": "ABX9TyN3j7nd1WrzgYB85o6I4Zd1"
    },
    "kernelspec": {
      "name": "python3",
      "display_name": "Python 3"
    },
    "language_info": {
      "name": "python"
    }
  },
  "cells": [
    {
      "cell_type": "markdown",
      "source": [
        "I have loaded a sample text .\n"
      ],
      "metadata": {
        "id": "Sev5cWwWdZKo"
      }
    },
    {
      "cell_type": "code",
      "source": [
        "sample_text = \"translate English to French: ML is transforming industries by enabling systems to learn from data and make intelligent decisions.\""
      ],
      "metadata": {
        "id": "RRNdihtOvW7C"
      },
      "execution_count": 50,
      "outputs": []
    },
    {
      "cell_type": "markdown",
      "source": [
        "import necessary libraries."
      ],
      "metadata": {
        "id": "G7HJbAqRNf6T"
      }
    },
    {
      "cell_type": "code",
      "source": [
        "from transformers import pipeline, AutoTokenizer, AutoModelForSeq2SeqLM\n",
        "\n",
        "tokenizer = AutoTokenizer.from_pretrained(\"google-t5/t5-base\")\n",
        "inputs = tokenizer(sample_text, return_tensors=\"pt\").input_ids\n",
        "model = AutoModelForSeq2SeqLM.from_pretrained(\"google-t5/t5-base\")\n",
        "outputs = model.generate(inputs, max_new_tokens=40, do_sample=True, top_k=30, top_p=0.95)\n",
        "output1 = tokenizer.decode(outputs[0], skip_special_tokens=True)"
      ],
      "metadata": {
        "id": "mgczk34ZCVKP"
      },
      "execution_count": 53,
      "outputs": []
    },
    {
      "cell_type": "code",
      "source": [
        "from transformers import MBartForConditionalGeneration, MBart50TokenizerFast\n",
        "\n",
        "model = MBartForConditionalGeneration.from_pretrained(\"facebook/mbart-large-50-many-to-many-mmt\")\n",
        "tokenizer = MBart50TokenizerFast.from_pretrained(\"facebook/mbart-large-50-many-to-many-mmt\")\n",
        "\n",
        "# translate English to French\n",
        "tokenizer.src_lang = \"en_XX\"\n",
        "encoded_en = tokenizer(sample_text, return_tensors=\"pt\")\n",
        "generated_tokens = model.generate(\n",
        "    **encoded_en,\n",
        "    forced_bos_token_id=tokenizer.lang_code_to_id[\"fr_XX\"]\n",
        ")\n",
        "output2 = tokenizer.batch_decode(generated_tokens, skip_special_tokens=True)\n"
      ],
      "metadata": {
        "id": "JQEx0TUORiU5"
      },
      "execution_count": 54,
      "outputs": []
    },
    {
      "cell_type": "code",
      "source": [
        "import difflib\n",
        "\n",
        "diff = difflib.ndiff(output1.splitlines(), output2[0].splitlines())\n",
        "diff_output = '\\n'.join(diff)\n",
        "\n",
        "with open('translation_diff.txt', 'w') as f:\n",
        "  f.write(diff_output)"
      ],
      "metadata": {
        "id": "r7_2bIeQpnez"
      },
      "execution_count": null,
      "outputs": []
    },
    {
      "cell_type": "code",
      "source": [
        "print(f\"Output 1 (T5): {output1}\")\n",
        "print(f\"Output 2 (mBART): {output2[0]}\")\n",
        "print(\"\\nDifference between the two translations:\")\n",
        "diff_output\n"
      ],
      "metadata": {
        "colab": {
          "base_uri": "https://localhost:8080/",
          "height": 140
        },
        "id": "A3dwdgemvKo8",
        "outputId": "7b556108-e14c-4564-fc6a-69713196bf34"
      },
      "execution_count": 95,
      "outputs": [
        {
          "output_type": "stream",
          "name": "stdout",
          "text": [
            "Output 1 (T5): Le blanchiment de capitaux modifie les industries en permettant aux systèmes d'apprendre des données et de prendre des décisions intelligentes.\n",
            "Output 2 (mBART): ML transforme les industries en permettant aux systèmes d'apprendre à partir des données et de prendre des décisions intelligentes.\n",
            "\n",
            "Difference between the two translations:\n"
          ]
        },
        {
          "output_type": "execute_result",
          "data": {
            "text/plain": [
              "\"- Le blanchiment de capitaux modifie les industries en permettant aux systèmes d'apprendre des données et de prendre des décisions intelligentes.\\n?  ^^^^  ^^^  ----------------------\\n\\n+ ML transforme les industries en permettant aux systèmes d'apprendre à partir des données et de prendre des décisions intelligentes.\\n? + ^^^  ^^^^                                                         +++++++++\\n\""
            ],
            "application/vnd.google.colaboratory.intrinsic+json": {
              "type": "string"
            }
          },
          "metadata": {},
          "execution_count": 95
        }
      ]
    },
    {
      "cell_type": "markdown",
      "source": [
        "## Review\n",
        "\n",
        "Lets look into above code more closely.<br>\n",
        "I have created a sample text String with some text to translate."
      ],
      "metadata": {
        "id": "4eeGd3UltawT"
      }
    },
    {
      "cell_type": "code",
      "source": [
        "sample_text = \"translate English to French: My name is Aayush and I am learning Natural Language Processing.\""
      ],
      "metadata": {
        "id": "dUc4sd-pzFx1"
      },
      "execution_count": 106,
      "outputs": []
    },
    {
      "cell_type": "markdown",
      "source": [
        "lets import  pipeline, AutoTokenizer, AutoModelForSeq2SeqLM from transformer library. <br>\n",
        "Next we tokenize our sample text and return input_ids.\n"
      ],
      "metadata": {
        "id": "b6sGO-ywzXEs"
      }
    },
    {
      "cell_type": "code",
      "source": [
        "tokenizer = AutoTokenizer.from_pretrained(\"google-t5/t5-base\")\n",
        "inputs = tokenizer(sample_text, return_tensors=\"pt\").input_ids"
      ],
      "metadata": {
        "id": "AkhpiBIuzhLe"
      },
      "execution_count": 107,
      "outputs": []
    }
  ]
}